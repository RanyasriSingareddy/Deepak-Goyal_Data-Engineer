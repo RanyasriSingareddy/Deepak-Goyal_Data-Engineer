{
  "cells": [
    {
      "cell_type": "markdown",
      "metadata": {
        "id": "view-in-github",
        "colab_type": "text"
      },
      "source": [
        "<a href=\"https://colab.research.google.com/github/RanyasriSingareddy/Deepak-Goyal_Data-Engineer/blob/main/Databricks_Assignment_1_(New)_a3nYY0uqkv.ipynb\" target=\"_parent\"><img src=\"https://colab.research.google.com/assets/colab-badge.svg\" alt=\"Open In Colab\"/></a>"
      ]
    },
    {
      "cell_type": "markdown",
      "metadata": {
        "application/vnd.databricks.v1+cell": {
          "cellMetadata": {},
          "inputWidgets": {},
          "nuid": "07f82699-b3da-4b5b-8fbd-2d00aa7a6b17",
          "showTitle": false,
          "title": ""
        },
        "id": "YZ-AV9V3mnte"
      },
      "source": [
        "<span style=\"color:blue\">\n",
        " <h2> Databircks-Assignemnt 1: Pyspark Basics\n",
        "</span>\n",
        "  <h5>\n",
        "    <span style=\"color:red\">\n",
        "<b>Author: Deepak Goyal <br>\n",
        "   <a> adeus.azurelib.com </a><br>\n",
        "   Email at: admin@azurelib.com\n",
        "</span>"
      ]
    },
    {
      "cell_type": "code",
      "execution_count": 5,
      "metadata": {
        "application/vnd.databricks.v1+cell": {
          "cellMetadata": {},
          "inputWidgets": {},
          "nuid": "87a14906-169b-4060-b4c4-d0b24e05ba86",
          "showTitle": false,
          "title": ""
        },
        "colab": {
          "base_uri": "https://localhost:8080/"
        },
        "id": "ncF6YXOUmnth",
        "outputId": "5f322346-9929-43a0-f7f0-38ae67a491db"
      },
      "outputs": [
        {
          "output_type": "stream",
          "name": "stdout",
          "text": [
            "Collecting pyspark\n",
            "  Downloading pyspark-3.5.1.tar.gz (317.0 MB)\n",
            "\u001b[2K     \u001b[90m━━━━━━━━━━━━━━━━━━━━━━━━━━━━━━━━━━━━━━━━\u001b[0m \u001b[32m317.0/317.0 MB\u001b[0m \u001b[31m2.0 MB/s\u001b[0m eta \u001b[36m0:00:00\u001b[0m\n",
            "\u001b[?25h  Preparing metadata (setup.py) ... \u001b[?25l\u001b[?25hdone\n",
            "Requirement already satisfied: py4j==0.10.9.7 in /usr/local/lib/python3.10/dist-packages (from pyspark) (0.10.9.7)\n",
            "Building wheels for collected packages: pyspark\n",
            "  Building wheel for pyspark (setup.py) ... \u001b[?25l\u001b[?25hdone\n",
            "  Created wheel for pyspark: filename=pyspark-3.5.1-py2.py3-none-any.whl size=317488490 sha256=a22fdceefcbecc1a5d13ae83bb4f7ae7527c118d7c6564d13f9e9e527cb9dade\n",
            "  Stored in directory: /root/.cache/pip/wheels/80/1d/60/2c256ed38dddce2fdd93be545214a63e02fbd8d74fb0b7f3a6\n",
            "Successfully built pyspark\n",
            "Installing collected packages: pyspark\n",
            "Successfully installed pyspark-3.5.1\n"
          ]
        }
      ],
      "source": [
        "#Import the data\n",
        "# Import\n",
        "!pip install pyspark"
      ]
    },
    {
      "cell_type": "code",
      "source": [
        "from pyspark.sql import SparkSession\n",
        "\n",
        "# Create SparkSession\n",
        "spark = SparkSession.builder.appName(\"PythonPi\").getOrCreate()\n",
        "\n",
        "# Read CSV File\n",
        "df = spark.read.csv(\"/Order.csv\")\n",
        "df.show()"
      ],
      "metadata": {
        "colab": {
          "base_uri": "https://localhost:8080/"
        },
        "id": "yAZJsgNppgPa",
        "outputId": "bb5cadcd-e459-412f-9f7a-3d8fa4773b8c"
      },
      "execution_count": 9,
      "outputs": [
        {
          "output_type": "stream",
          "name": "stdout",
          "text": [
            "+--------------------+----------+---------------+------------+-------------+---------+---------+---------+--------+------------+----------+-----------+\n",
            "|                 _c0|       _c1|            _c2|         _c3|          _c4|      _c5|      _c6|      _c7|     _c8|         _c9|      _c10|       _c11|\n",
            "+--------------------+----------+---------------+------------+-------------+---------+---------+---------+--------+------------+----------+-----------+\n",
            "|              Region|   Country|       ItemType|SalesChannel|OrderPriority|  OrderID|UnitsSold|UnitPrice|UnitCost|TotalRevenue| TotalCost|TotalProfit|\n",
            "|Middle East and N...|     Libya|      Cosmetics|     Offline|            M|686800706|     8446|    437.2|  263.33|   3692591.2|2224085.18| 1468506.02|\n",
            "|       North America|    Canada|     Vegetables|      Online|            M|185941302|     3018|   154.06|   90.93|   464953.08| 274426.74|  190526.34|\n",
            "|Middle East and N...|     Libya|      Baby Food|     Offline|            C|246222341|     1517|   255.28|  159.42|   387259.76| 241840.14|  145419.62|\n",
            "|                Asia|     Japan|         Cereal|     Offline|            C|161442649|     3322|    205.7|  117.11|    683335.4| 389039.42|  294295.98|\n",
            "|  Sub-Saharan Africa|      Chad|         Fruits|     Offline|            H|645713555|     9845|     9.33|    6.92|    91853.85|   68127.4|   23726.45|\n",
            "|              Europe|   Armenia|         Cereal|      Online|            H|683458888|     9528|    205.7|  117.11|   1959909.6|1115824.08|  844085.52|\n",
            "|  Sub-Saharan Africa|   Eritrea|         Cereal|      Online|            H|679414975|     2844|    205.7|  117.11|    585010.8| 333060.84|  251949.96|\n",
            "|              Europe|Montenegro|        Clothes|     Offline|            M|208630645|     7299|   109.28|   35.84|   797634.72| 261596.16|  536038.56|\n",
            "|Central America a...|   Jamaica|     Vegetables|      Online|            H|266467225|     2428|   154.06|   90.93|   374057.68| 220778.04|  153279.64|\n",
            "|Australia and Oce...|      Fiji|     Vegetables|     Offline|            H|118598544|     4800|   154.06|   90.93|      739488|    436464|     303024|\n",
            "|  Sub-Saharan Africa|      Togo|        Clothes|      Online|            M|451010930|     3012|   109.28|   35.84|   329151.36| 107950.08|  221201.28|\n",
            "|              Europe|Montenegro|         Snacks|     Offline|            M|220003211|     2694|   152.58|   97.44|   411050.52| 262503.36|  148547.16|\n",
            "|              Europe|    Greece|      Household|      Online|            C|702186715|     1508|   668.27|  502.54|  1007751.16| 757830.32|  249920.84|\n",
            "|  Sub-Saharan Africa|     Sudan|      Cosmetics|      Online|            C|544485270|     4146|    437.2|  263.33|   1812631.2|1091766.18|  720865.02|\n",
            "|                Asia|  Maldives|         Fruits|     Offline|            L|714135205|     7332|     9.33|    6.92|    68407.56|  50737.44|   17670.12|\n",
            "|              Europe|Montenegro|        Clothes|     Offline|            H|448685348|     4820|   109.28|   35.84|    526729.6|  172748.8|   353980.8|\n",
            "|              Europe|   Estonia|Office Supplies|      Online|            H|405997025|     2397|   651.21|  524.96|  1560950.37|1258329.12|  302621.25|\n",
            "|       North America| Greenland|      Beverages|      Online|            M|414244067|     2880|    47.45|   31.79|      136656|   91555.2|    45100.8|\n",
            "|  Sub-Saharan Africa|Cape Verde|        Clothes|      Online|            C|821912801|     1117|   109.28|   35.84|   122065.76|  40033.28|   82032.48|\n",
            "+--------------------+----------+---------------+------------+-------------+---------+---------+---------+--------+------------+----------+-----------+\n",
            "only showing top 20 rows\n",
            "\n"
          ]
        }
      ]
    },
    {
      "cell_type": "markdown",
      "metadata": {
        "application/vnd.databricks.v1+cell": {
          "cellMetadata": {},
          "inputWidgets": {},
          "nuid": "d437abe5-35db-48e5-af01-df4d406a033e",
          "showTitle": false,
          "title": ""
        },
        "id": "oJhTjfzUmnti"
      },
      "source": [
        "## Question 1\n",
        "Select only the 'OrderID', 'Region', and 'TotalRevenue' columns from the dataset."
      ]
    },
    {
      "cell_type": "code",
      "execution_count": null,
      "metadata": {
        "application/vnd.databricks.v1+cell": {
          "cellMetadata": {},
          "inputWidgets": {},
          "nuid": "5ac0d99b-80b5-4b58-a0f8-9ac537a8cc79",
          "showTitle": false,
          "title": ""
        },
        "id": "lRJefvqTmntj"
      },
      "outputs": [],
      "source": [
        "# Your code here\n",
        "\n"
      ]
    },
    {
      "cell_type": "markdown",
      "metadata": {
        "application/vnd.databricks.v1+cell": {
          "cellMetadata": {},
          "inputWidgets": {},
          "nuid": "7299daf5-70ac-46e2-abec-4bfc83c97b61",
          "showTitle": false,
          "title": ""
        },
        "id": "kiARzp4Pmntj"
      },
      "source": [
        "## Question 2\n",
        "Find all orders from the 'Europe' region with a total revenue greater than $500,000."
      ]
    },
    {
      "cell_type": "code",
      "execution_count": null,
      "metadata": {
        "application/vnd.databricks.v1+cell": {
          "cellMetadata": {},
          "inputWidgets": {},
          "nuid": "00560698-0f5c-49b5-822a-d046dee65cae",
          "showTitle": false,
          "title": ""
        },
        "id": "c4Ov8Pofmntk"
      },
      "outputs": [],
      "source": [
        "# Your code here\n"
      ]
    },
    {
      "cell_type": "markdown",
      "metadata": {
        "application/vnd.databricks.v1+cell": {
          "cellMetadata": {},
          "inputWidgets": {},
          "nuid": "7a48e230-adaf-4196-bab4-8a40974dea8c",
          "showTitle": false,
          "title": ""
        },
        "id": "7_dPkHJEmntk"
      },
      "source": [
        "## Question 3\n",
        "List the distinct item types sold in the 'Middle East and North Africa' region."
      ]
    },
    {
      "cell_type": "code",
      "execution_count": null,
      "metadata": {
        "application/vnd.databricks.v1+cell": {
          "cellMetadata": {},
          "inputWidgets": {},
          "nuid": "fb1fa022-b2a5-4406-b707-b5b571e9e5c4",
          "showTitle": false,
          "title": ""
        },
        "id": "AqrTBrcbmntk"
      },
      "outputs": [],
      "source": [
        "# Your code here\n",
        "\n"
      ]
    },
    {
      "cell_type": "markdown",
      "metadata": {
        "application/vnd.databricks.v1+cell": {
          "cellMetadata": {},
          "inputWidgets": {},
          "nuid": "f0ecced7-19fa-4b57-afcf-d39688f6eb28",
          "showTitle": false,
          "title": ""
        },
        "id": "kFB5Jkqfmntl"
      },
      "source": [
        "## Question 4\n",
        "Select orders that are either 'High' priority or have a total profit greater than $100,000."
      ]
    },
    {
      "cell_type": "code",
      "execution_count": null,
      "metadata": {
        "application/vnd.databricks.v1+cell": {
          "cellMetadata": {},
          "inputWidgets": {},
          "nuid": "f3d3bc13-5a6c-405a-a539-4cf89e40486d",
          "showTitle": false,
          "title": ""
        },
        "id": "_x_B6TGrmntl"
      },
      "outputs": [],
      "source": [
        "# Your code here\n"
      ]
    },
    {
      "cell_type": "markdown",
      "metadata": {
        "application/vnd.databricks.v1+cell": {
          "cellMetadata": {},
          "inputWidgets": {},
          "nuid": "692b119b-faf1-4f05-8d97-d709277781d0",
          "showTitle": false,
          "title": ""
        },
        "id": "q6ti1tAJmntl"
      },
      "source": [
        "## Question 5\n",
        "Create a new column called 'RevenueCategory' that categorizes total revenue as 'Low' if less than $100,000, 'Medium' if between $100,000 and $500,000, and 'High' if greater than $500,000."
      ]
    },
    {
      "cell_type": "code",
      "execution_count": null,
      "metadata": {
        "application/vnd.databricks.v1+cell": {
          "cellMetadata": {},
          "inputWidgets": {},
          "nuid": "3668eb6c-9fd0-4f5a-b314-466d86c3b1dc",
          "showTitle": false,
          "title": ""
        },
        "id": "kyxn_zkimntl"
      },
      "outputs": [],
      "source": [
        "# Your code here\n"
      ]
    },
    {
      "cell_type": "markdown",
      "metadata": {
        "application/vnd.databricks.v1+cell": {
          "cellMetadata": {},
          "inputWidgets": {},
          "nuid": "480586d9-60a3-4376-9c29-9a9923de564e",
          "showTitle": false,
          "title": ""
        },
        "id": "V-BWjnYmmntm"
      },
      "source": [
        "## Question 6\n",
        "Remove the 'UnitCost' column from the dataset and rename 'TotalRevenue' to 'Revenue'."
      ]
    },
    {
      "cell_type": "code",
      "execution_count": null,
      "metadata": {
        "application/vnd.databricks.v1+cell": {
          "cellMetadata": {},
          "inputWidgets": {},
          "nuid": "80918b55-4fa1-494b-83ab-e6929f3d6e75",
          "showTitle": false,
          "title": ""
        },
        "id": "j8ZyT9jLmntm"
      },
      "outputs": [],
      "source": [
        "# Your code here\n"
      ]
    },
    {
      "cell_type": "markdown",
      "metadata": {
        "application/vnd.databricks.v1+cell": {
          "cellMetadata": {},
          "inputWidgets": {},
          "nuid": "c2520eb8-27f9-4bc1-8059-564190beb082",
          "showTitle": false,
          "title": ""
        },
        "id": "Gif7eW1rmntm"
      },
      "source": [
        "## Question 7\n",
        "Find all orders of 'Clothes' or 'Cosmetics' that were sold through the 'Online' sales channel."
      ]
    },
    {
      "cell_type": "code",
      "execution_count": null,
      "metadata": {
        "application/vnd.databricks.v1+cell": {
          "cellMetadata": {},
          "inputWidgets": {},
          "nuid": "719854b0-1154-4f0e-a09d-ed1ca1d608bc",
          "showTitle": false,
          "title": ""
        },
        "id": "4aMI6pOtmntm"
      },
      "outputs": [],
      "source": [
        "# Your code here\n",
        "\n"
      ]
    },
    {
      "cell_type": "markdown",
      "metadata": {
        "application/vnd.databricks.v1+cell": {
          "cellMetadata": {},
          "inputWidgets": {},
          "nuid": "77c2e53c-bb83-4484-9ad4-a416cdde83c6",
          "showTitle": false,
          "title": ""
        },
        "id": "wXNFzRc3mntm"
      },
      "source": [
        "## Question 8\n",
        "Create a new column 'ProfitMargin' that calculates the percentage of profit relative to revenue (TotalProfit / TotalRevenue * 100)."
      ]
    },
    {
      "cell_type": "code",
      "execution_count": null,
      "metadata": {
        "application/vnd.databricks.v1+cell": {
          "cellMetadata": {},
          "inputWidgets": {},
          "nuid": "df9f1871-8e20-409a-8455-a69951f5a563",
          "showTitle": false,
          "title": ""
        },
        "id": "Lgq0U3lBmntm"
      },
      "outputs": [],
      "source": [
        "# Your code here\n"
      ]
    },
    {
      "cell_type": "markdown",
      "metadata": {
        "application/vnd.databricks.v1+cell": {
          "cellMetadata": {},
          "inputWidgets": {},
          "nuid": "9b57289f-2ec2-48a0-98c6-15ee3d507d84",
          "showTitle": false,
          "title": ""
        },
        "id": "QDyUOir4mntm"
      },
      "source": [
        "## Question 9\n",
        "Select distinct combinations of 'Region' and 'ItemType' where the 'OrderPriority' is 'Medium' or 'High'."
      ]
    },
    {
      "cell_type": "code",
      "execution_count": null,
      "metadata": {
        "application/vnd.databricks.v1+cell": {
          "cellMetadata": {},
          "inputWidgets": {},
          "nuid": "582b3fc1-3aee-472d-beac-ccde6b71df6a",
          "showTitle": false,
          "title": ""
        },
        "id": "sZmLs-qPmntn"
      },
      "outputs": [],
      "source": [
        "# Your code here\n"
      ]
    },
    {
      "cell_type": "markdown",
      "metadata": {
        "application/vnd.databricks.v1+cell": {
          "cellMetadata": {},
          "inputWidgets": {},
          "nuid": "7e8dddac-7b9b-4f02-81c9-6959ef251bdc",
          "showTitle": false,
          "title": ""
        },
        "id": "2LSqg9Rqmntn"
      },
      "source": [
        "## Question 10\n",
        "Find all orders where the 'UnitPrice' is greater than the average 'UnitPrice' of all products."
      ]
    },
    {
      "cell_type": "code",
      "execution_count": null,
      "metadata": {
        "application/vnd.databricks.v1+cell": {
          "cellMetadata": {},
          "inputWidgets": {},
          "nuid": "5779c67f-9330-4157-9238-e299f7db3b93",
          "showTitle": false,
          "title": ""
        },
        "id": "23hzAvblmntn"
      },
      "outputs": [],
      "source": [
        "# Your code here\n"
      ]
    }
  ],
  "metadata": {
    "application/vnd.databricks.v1+notebook": {
      "dashboards": [],
      "environmentMetadata": null,
      "language": "python",
      "notebookMetadata": {
        "pythonIndentUnit": 2
      },
      "notebookName": "Databricks Assignment 1 (New)",
      "widgets": {}
    },
    "kernelspec": {
      "display_name": "Python 3",
      "language": "python",
      "name": "python3"
    },
    "language_info": {
      "codemirror_mode": {
        "name": "ipython",
        "version": 3
      },
      "file_extension": ".py",
      "mimetype": "text/x-python",
      "name": "python",
      "nbconvert_exporter": "python",
      "pygments_lexer": "ipython3",
      "version": "3.8.8"
    },
    "colab": {
      "provenance": [],
      "include_colab_link": true
    }
  },
  "nbformat": 4,
  "nbformat_minor": 0
}